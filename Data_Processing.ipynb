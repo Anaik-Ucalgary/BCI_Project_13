{
  "nbformat": 4,
  "nbformat_minor": 0,
  "metadata": {
    "colab": {
      "provenance": []
    },
    "kernelspec": {
      "name": "python3",
      "display_name": "Python 3"
    },
    "language_info": {
      "name": "python"
    }
  },
  "cells": [
    {
      "cell_type": "code",
      "execution_count": 2,
      "metadata": {
        "id": "uy2My4yEmRYw"
      },
      "outputs": [],
      "source": [
        "!git config --global user.email \"anaik.ucalgary@gmail.com\"\n",
        "!git config --global user.name \"Anaik-Ucalgary\""
      ]
    },
    {
      "cell_type": "code",
      "source": [
        "from google.colab import drive\n",
        "drive.mount('/content/drive')\n",
        "\n",
        "# Adjust the file name if you're working on a specific name:\n",
        "notebook_name = \"Data_Processing.ipynb\"\n",
        "\n",
        "# Specify the project folder in your drive\n",
        "project_path = \"/content/drive/MyDrive/BCI_Project_13/\"\n",
        "\n",
        "# Save notebook to project folder\n",
        "!cp /content/{notebook_name} {project_path}{notebook_name}\n"
      ],
      "metadata": {
        "colab": {
          "base_uri": "https://localhost:8080/"
        },
        "id": "-zrz-PHpm1aB",
        "outputId": "f09dd9a1-a6f0-4ed1-fda1-20be97e48041"
      },
      "execution_count": 3,
      "outputs": [
        {
          "output_type": "stream",
          "name": "stdout",
          "text": [
            "Drive already mounted at /content/drive; to attempt to forcibly remount, call drive.mount(\"/content/drive\", force_remount=True).\n",
            "cp: cannot stat '/content/Data_Processing.ipynb': No such file or directory\n"
          ]
        }
      ]
    }
  ]
}