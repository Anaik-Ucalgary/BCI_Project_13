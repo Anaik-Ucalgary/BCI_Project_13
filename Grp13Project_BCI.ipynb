{
  "cells": [
    {
      "cell_type": "markdown",
      "metadata": {
        "id": "5EcE3I6UPSCp"
      },
      "source": [
        "# **ENGG680 - Introduction to Digital Engineering**\n",
        "## FINAL PROJECT: Brain-Computer Interface (BCI) Data Processing System for Stroke Rehabilitation\n"
      ]
    },
    {
      "cell_type": "markdown",
      "metadata": {
        "id": "_-Epr5nwPae_"
      },
      "source": [
        "## Preliminary: Certificate of Work\n"
      ]
    },
    {
      "cell_type": "markdown",
      "metadata": {
        "id": "y8jQVcs1Pcaw"
      },
      "source": [
        "*We, the undersigned, certify that this is our own work, which has been done expressly for this course, either without the assistance of any other party or where appropriate we have acknowledged the work of others. Further, we have read and understood the section in the university calendar on plagiarism/cheating/other academic misconduct and we are aware of the implications thereof. We request that the total mark for this assignment be distributed as follows among group members:*"
      ]
    },
    {
      "cell_type": "markdown",
      "metadata": {
        "id": "knIbAzCGPeL_"
      },
      "source": [
        "|          | First Name | Last Name | Signature (Full Name, Date) | Hours | Contribution % |\n",
        "|----------|------------|-----------|-----------------------------|-------|----------------|\n",
        "| Member 1: | First Name | Last Name | Signature | Hours | Contribution |\n",
        "| Member 2: | First Name | Last Name | Signature | Hours | Contribution |\n",
        "| Member 3: | First Name | Last Name | Signature | Hours | Contribution |\n",
        "| Member 4: | First Name | Last Name | Signature | Hours | Contribution |\n",
        "| Member 5: | Kapildev | Aryal | Kapildev Aryal 12/7/2024 | 6 Hours | 12.5% |\n",
        "| Member 6: | Samit  | Shrestha | Samit Shrestha 12/8/2024 | 5.5 Hours | 12.5%|\n",
        "| Member 7: | Pawan | Bhusal | Pawan Bhusal 12/8/2024 | 7 Hours | 12.5% |\n",
        "| Member 8: | Manesh  | Pandit Chhetri | Manesh Pandit Chhetri 12/8/2024 | 8 Hours | 12.5% |\n"
      ]
    }
  ],
  "metadata": {
    "colab": {
      "provenance": [],
      "toc_visible": true
    },
    "kernelspec": {
      "display_name": "Python 3",
      "name": "python3"
    },
    "language_info": {
      "name": "python"
    }
  },
  "nbformat": 4,
  "nbformat_minor": 0
}